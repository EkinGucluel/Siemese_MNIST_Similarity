{
 "cells": [
  {
   "cell_type": "code",
   "execution_count": 13,
   "id": "45808d79",
   "metadata": {},
   "outputs": [],
   "source": [
    "import itertools\n",
    "from tqdm import tqdm\n",
    "import numpy as np\n",
    "import matplotlib.pyplot as plt\n",
    "import torch\n",
    "from torch.utils.data import Subset, random_split, DataLoader\n",
    "from torchvision import datasets, transforms\n",
    "import torch.nn as nn\n",
    "import torch.nn.functional as F\n",
    "import torch.optim as optim\n",
    "from itertools import product\n",
    "from torch.utils.data import Dataset"
   ]
  },
  {
   "cell_type": "code",
   "execution_count": null,
   "id": "229dc870",
   "metadata": {},
   "outputs": [],
   "source": [
    "class PairedDataset(Dataset):\n",
    "    def __init__(self, base_dataset):\n",
    "        # Store the data\n",
    "        self.pairs = []\n",
    "        self.labels = []\n",
    "\n",
    "        # Extract all (image, label) pairs\n",
    "        data = [(img, label) for img, label in base_dataset]\n",
    "\n",
    "        # Create all combinations\n",
    "        for (img1, label1), (img2, label2) in product(data, data):\n",
    "            self.pairs.append((img1, img2))\n",
    "            self.labels.append(int(label1 == label2))\n",
    "\n",
    "    def __len__(self):\n",
    "        # Return the number of samples\n",
    "        return len(self.pairs)\n",
    "\n",
    "    def __getitem__(self, idx):\n",
    "        # Return ((image_A, image_B), label) for this index\n",
    "        img1, img2 = self.pairs[idx]\n",
    "        label = self.labels[idx]\n",
    "        return (img1, img2), torch.tensor(label, dtype=torch.float32)"
   ]
  },
  {
   "cell_type": "code",
   "execution_count": 15,
   "id": "0505af6a",
   "metadata": {},
   "outputs": [],
   "source": [
    "class SiameseNetwork(nn.Module):\n",
    "    def __init__(self):\n",
    "        super().__init__() # nn.Module is the parent class\n",
    "        # NOT calling these functions here, just storing the layer\n",
    "        # Kalıp Gibi.\n",
    "        self.conv1 = nn.Conv2d(1, 64, kernel_size=3, stride=1, padding=1) # 1 for grayscale img, 64 feature maps, 3x3 convolution window, 1 pixel move for each step, 1-pixel border around the image, gives output of shape (batch_size, 64, 28, 28)\n",
    "        self.bn1 = nn.BatchNorm2d(64) # Normalization, keeps its mean 0 and variance 1\n",
    "\n",
    "        self.conv2 = nn.Conv2d(64, 128, kernel_size=3, stride=1, padding=1) # (in_channels, out_channels, kernel_size, ...)\n",
    "        self.bn2 = nn.BatchNorm2d(128)\n",
    "\n",
    "        self.conv3 = nn.Conv2d(128, 256, kernel_size=3, stride=1, padding=1)\n",
    "        self.bn3 = nn.BatchNorm2d(256)\n",
    "\n",
    "        self.conv4 = nn.Conv2d(256, 512, kernel_size=3, stride=1, padding=1)\n",
    "        self.bn4 = nn.BatchNorm2d(512)\n",
    "\n",
    "        self.global_pool = nn.AdaptiveAvgPool2d(1) # (batch_size, 512, 28, 28) --> (batch_size, 512). squeezes each 28 × 28 feature map into a single number, using average pooling.\n",
    "\n",
    "        self.embedding = nn.Linear(512, 64) # Like Dense(64) in Keras, \"Take this 512-dimensional vector (summary of the image), and map it down to 64 numbers.\"\n",
    "\n",
    "        # After CNN:\n",
    "        self.fc1 = nn.Linear(128, 64)\n",
    "        self.out = nn.Linear(64, 1) # final output layer\n",
    "\n",
    "    def cnn(self, x):\n",
    "        x = F.relu(self.bn1(self.conv1(x)))  # runs the convolution layer on input x, normalizes the result, applies ReLU activation\n",
    "        x = F.relu(self.bn2(self.conv2(x)))\n",
    "        x = F.relu(self.bn3(self.conv3(x)))\n",
    "        x = F.relu(self.bn4(self.conv4(x)))\n",
    "\n",
    "        x = self.global_pool(x) # shape: [batch, 512, 1, 1]\n",
    "        x = x.view(x.size(0), -1) # shape: [batch, 512]\n",
    "        x = self.embedding(x) # shape: [batch, 64]\n",
    "        return x\n",
    "\n",
    "    def forward(self, imgA, imgB):\n",
    "        # Extract features from both images\n",
    "        featA = self.cnn(imgA)               # shape: [batch, 64]\n",
    "        featB = self.cnn(imgB)\n",
    "\n",
    "        # Concatenate embeddings\n",
    "        x = torch.cat([featA, featB], dim=1) # shape: [batch, 128]\n",
    "\n",
    "        # Compare / MLP (Multi-Layer Perceptron)\n",
    "        x = F.relu(self.fc1(x))              # shape: [batch, 64]\n",
    "        x = torch.sigmoid(self.out(x))       # shape: [batch, 1] — similarity score, sigmoid activation function, output between [0-1]\n",
    "        return x\n"
   ]
  },
  {
   "cell_type": "code",
   "execution_count": 16,
   "id": "7a2f69a3",
   "metadata": {},
   "outputs": [],
   "source": [
    "# Datayı hazırlamak için 1\n",
    "transform = transforms.Compose([\n",
    "    transforms.ToTensor(),                            # Converts to tensor and scales to [0,1]\n",
    "    transforms.Normalize((0.1307,), (0.3081,))        # Normalizes using MNIST mean and std\n",
    "])\n",
    "# loading the full dataset\n",
    "full_train_dataset = datasets.MNIST(root=\"data\", train=True, download=True, transform=transform)\n",
    "test_dataset = datasets.MNIST(root=\"data\", train=False, download=True, transform=transform)"
   ]
  },
  {
   "cell_type": "code",
   "execution_count": 17,
   "id": "459d0355",
   "metadata": {},
   "outputs": [],
   "source": [
    "train_size = 200 # Datayı hazırlamak için 2\n",
    "validation_size = 50\n",
    "test_size = 50"
   ]
  },
  {
   "cell_type": "code",
   "execution_count": 18,
   "id": "85aa608c",
   "metadata": {},
   "outputs": [],
   "source": [
    "# Datayı hazırlamak için 3\n",
    "train_validation_subset, _ = random_split(full_train_dataset, [train_size + validation_size, len(full_train_dataset) - (train_size + validation_size)], generator=torch.Generator().manual_seed(42))\n",
    "train_subset, validation_subset = random_split(train_validation_subset, [train_size, validation_size], generator=torch.Generator().manual_seed(42))\n",
    "test_subset, _ = random_split(test_dataset, [test_size, len(test_dataset) - test_size], generator=torch.Generator().manual_seed(42))"
   ]
  },
  {
   "cell_type": "code",
   "execution_count": 19,
   "id": "1d12f039",
   "metadata": {},
   "outputs": [
    {
     "name": "stdout",
     "output_type": "stream",
     "text": [
      "40000\n"
     ]
    }
   ],
   "source": [
    "# Datayı hazırlamak için 4\n",
    "paired_train_dataset = PairedDataset(train_subset)\n",
    "paired_val_dataset = PairedDataset(validation_subset)\n",
    "paired_test_dataset = PairedDataset(test_subset)\n",
    "print(len(paired_train_dataset))  # 35×35 = 1225"
   ]
  },
  {
   "cell_type": "code",
   "execution_count": 20,
   "id": "d0f3fff0",
   "metadata": {},
   "outputs": [],
   "source": [
    "# Datayı hazırlamak için 5\n",
    "batch_size = 8\n",
    "\n",
    "# Batches the data\n",
    "train_loader = DataLoader(paired_train_dataset, batch_size=batch_size, shuffle=True)\n",
    "validation_loader = DataLoader(paired_val_dataset, batch_size=batch_size, shuffle=True)\n",
    "test_loader = DataLoader(paired_test_dataset, batch_size=batch_size, shuffle=True)"
   ]
  },
  {
   "cell_type": "code",
   "execution_count": 21,
   "id": "be9b3443",
   "metadata": {},
   "outputs": [
    {
     "name": "stdout",
     "output_type": "stream",
     "text": [
      "torch.Size([8, 1, 28, 28])\n",
      "torch.Size([8, 1, 28, 28])\n",
      "torch.Size([8])\n"
     ]
    }
   ],
   "source": [
    "for (imgA, imgB), labels in train_loader:\n",
    "    print(imgA.shape)\n",
    "    print(imgB.shape)\n",
    "    print(labels.shape)\n",
    "    break\n"
   ]
  },
  {
   "cell_type": "code",
   "execution_count": 22,
   "id": "3c217d22",
   "metadata": {},
   "outputs": [
    {
     "name": "stdout",
     "output_type": "stream",
     "text": [
      "Using device: mps\n"
     ]
    }
   ],
   "source": [
    "device = torch.device(\"mps\" if torch.backends.mps.is_available() else \"cpu\")\n",
    "print(\"Using device:\", device)"
   ]
  },
  {
   "cell_type": "code",
   "execution_count": 23,
   "id": "2de2db67",
   "metadata": {},
   "outputs": [],
   "source": [
    "model = SiameseNetwork().to(device)\n",
    "criterion = nn.BCELoss() # Binary Cross Entropy Loss, used to compute the loss\n",
    "optimizer = torch.optim.Adam(model.parameters(), lr=0.001) # Adam optimizer updates model weights during training."
   ]
  },
  {
   "cell_type": "code",
   "execution_count": 24,
   "id": "0da02657",
   "metadata": {},
   "outputs": [
    {
     "name": "stdout",
     "output_type": "stream",
     "text": [
      "Epoch [1/20] - Loss: 0.3116\n",
      "Validation Accuracy: 0.8920\n",
      "Model saved as siamese_model_epoch20_bs8_train200_testval50_20250723.pth\n",
      "Epoch [2/20] - Loss: 0.2497\n",
      "Validation Accuracy: 0.8976\n",
      "Model saved as siamese_model_epoch20_bs8_train200_testval50_20250723.pth\n",
      "Epoch [3/20] - Loss: 0.1744\n",
      "Validation Accuracy: 0.9284\n",
      "Model saved as siamese_model_epoch20_bs8_train200_testval50_20250723.pth\n",
      "Epoch [4/20] - Loss: 0.0883\n",
      "Validation Accuracy: 0.9420\n",
      "Model saved as siamese_model_epoch20_bs8_train200_testval50_20250723.pth\n",
      "Epoch [5/20] - Loss: 0.0379\n",
      "Validation Accuracy: 0.9292\n",
      "Model saved as siamese_model_epoch20_bs8_train200_testval50_20250723.pth\n",
      "Epoch [6/20] - Loss: 0.0259\n",
      "Validation Accuracy: 0.9404\n",
      "Model saved as siamese_model_epoch20_bs8_train200_testval50_20250723.pth\n",
      "Epoch [7/20] - Loss: 0.0138\n",
      "Validation Accuracy: 0.9508\n",
      "Model saved as siamese_model_epoch20_bs8_train200_testval50_20250723.pth\n",
      "Epoch [8/20] - Loss: 0.0179\n",
      "Validation Accuracy: 0.9412\n",
      "Model saved as siamese_model_epoch20_bs8_train200_testval50_20250723.pth\n",
      "Epoch [9/20] - Loss: 0.0139\n",
      "Validation Accuracy: 0.9228\n",
      "Model saved as siamese_model_epoch20_bs8_train200_testval50_20250723.pth\n",
      "Epoch [10/20] - Loss: 0.0089\n",
      "Validation Accuracy: 0.8920\n",
      "Model saved as siamese_model_epoch20_bs8_train200_testval50_20250723.pth\n",
      "Epoch [11/20] - Loss: 0.0104\n",
      "Validation Accuracy: 0.9476\n",
      "Model saved as siamese_model_epoch20_bs8_train200_testval50_20250723.pth\n",
      "Epoch [12/20] - Loss: 0.0160\n",
      "Validation Accuracy: 0.9504\n",
      "Model saved as siamese_model_epoch20_bs8_train200_testval50_20250723.pth\n",
      "Epoch [13/20] - Loss: 0.0057\n",
      "Validation Accuracy: 0.9536\n",
      "Model saved as siamese_model_epoch20_bs8_train200_testval50_20250723.pth\n",
      "Epoch [14/20] - Loss: 0.0091\n",
      "Validation Accuracy: 0.9508\n",
      "Model saved as siamese_model_epoch20_bs8_train200_testval50_20250723.pth\n",
      "Epoch [15/20] - Loss: 0.0091\n",
      "Validation Accuracy: 0.9564\n",
      "Model saved as siamese_model_epoch20_bs8_train200_testval50_20250723.pth\n",
      "Epoch [16/20] - Loss: 0.0051\n",
      "Validation Accuracy: 0.9460\n",
      "Model saved as siamese_model_epoch20_bs8_train200_testval50_20250723.pth\n",
      "Epoch [17/20] - Loss: 0.0034\n",
      "Validation Accuracy: 0.9460\n",
      "Model saved as siamese_model_epoch20_bs8_train200_testval50_20250723.pth\n",
      "Epoch [18/20] - Loss: 0.0076\n",
      "Validation Accuracy: 0.9496\n",
      "Model saved as siamese_model_epoch20_bs8_train200_testval50_20250723.pth\n",
      "Epoch [19/20] - Loss: 0.0109\n",
      "Validation Accuracy: 0.9464\n",
      "Model saved as siamese_model_epoch20_bs8_train200_testval50_20250723.pth\n",
      "Epoch [20/20] - Loss: 0.0039\n",
      "Validation Accuracy: 0.9512\n",
      "Model saved as siamese_model_epoch20_bs8_train200_testval50_20250723.pth\n"
     ]
    }
   ],
   "source": [
    "num_epochs = 20\n",
    "for epoch in range(num_epochs):\n",
    "    model.train()\n",
    "    total_loss = 0\n",
    "    for (imgA, imgB), labels in train_loader:\n",
    "        imgA, imgB, labels = imgA.to(device), imgB.to(device), labels.to(device) # Moves data to GPU\n",
    "        outputs = model(imgA, imgB)\n",
    "        loss = criterion(outputs, labels.unsqueeze(1)) # compares models prediction and the correct answer\n",
    "        optimizer.zero_grad() # Clear previous gradients (weight change needs)\n",
    "        loss.backward() # Figures out how much each weight needs to change to make the prediction better\n",
    "        optimizer.step() # Changing the weights using the advice calculated by .backward()\n",
    "        total_loss += loss.item()\n",
    "\n",
    "    avg_loss = total_loss / len(train_loader)\n",
    "    print(f\"Epoch [{epoch+1}/{num_epochs}] - Loss: {avg_loss:.4f}\")\n",
    "    model.eval()\n",
    "    correct = 0\n",
    "    total = 0\n",
    "\n",
    "    with torch.no_grad():  # Disables gradient tracking for faster performance\n",
    "        for (imgA, imgB), labels in validation_loader:\n",
    "            imgA, imgB, labels = imgA.to(device), imgB.to(device), labels.to(device)\n",
    "            outputs = model(imgA, imgB)\n",
    "            predictions = (outputs > 0.5).float()  # Binary prediction\n",
    "            correct += (predictions == labels.unsqueeze(1)).sum().item()\n",
    "            total += labels.size(0)\n",
    "\n",
    "    accuracy = correct / total\n",
    "    print(f\"Validation Accuracy: {accuracy:.4f}\")\n",
    "\n",
    "    torch.save(model.state_dict(), \"siamese_model_epoch20_bs8_train200_testval50_20250723.pth\")\n",
    "    print(\"Model saved as siamese_model_epoch20_bs8_train200_testval50_20250723.pth\")"
   ]
  },
  {
   "cell_type": "code",
   "execution_count": 25,
   "id": "26925252",
   "metadata": {},
   "outputs": [
    {
     "name": "stdout",
     "output_type": "stream",
     "text": [
      "Loaded pre-trained model.\n"
     ]
    }
   ],
   "source": [
    "# Load previously saved model (optional)\n",
    "model.load_state_dict(torch.load(\"siamese_model_epoch20_bs8_train200_testval50_20250723.pth\", map_location=device))\n",
    "model.eval()\n",
    "print(\"Loaded pre-trained model.\")"
   ]
  },
  {
   "cell_type": "code",
   "execution_count": 26,
   "id": "9edb0750",
   "metadata": {},
   "outputs": [
    {
     "name": "stdout",
     "output_type": "stream",
     "text": [
      "Final Test Accuracy: 0.9160\n"
     ]
    }
   ],
   "source": [
    "model.eval()  # Set to eval mode\n",
    "correct = 0\n",
    "total = 0\n",
    "\n",
    "with torch.no_grad():  # No need to track gradients -- INFERENCE\n",
    "    for (imgA, imgB), labels in test_loader:\n",
    "        imgA, imgB, labels = imgA.to(device), imgB.to(device), labels.to(device)\n",
    "        outputs = model(imgA, imgB)\n",
    "        predictions = (outputs > 0.5).float()\n",
    "        correct += (predictions == labels.unsqueeze(1)).sum().item()\n",
    "        total += labels.size(0)\n",
    "\n",
    "test_accuracy = correct / total\n",
    "print(f\"Final Test Accuracy: {test_accuracy:.4f}\")"
   ]
  },
  {
   "cell_type": "code",
   "execution_count": 39,
   "id": "7d801b38",
   "metadata": {},
   "outputs": [
    {
     "data": {
      "image/png": "[encoded data removed]",
      "text/plain": [
       "<Figure size 1000x500 with 2 Axes>"
      ]
     },
     "metadata": {},
     "output_type": "display_data"
    },
    {
     "name": "stdout",
     "output_type": "stream",
     "text": [
      "Prediction (similarity score): 0.9985173345\n",
      "Actual: 1\n"
     ]
    }
   ],
   "source": [
    "idx1, idx2 = 2, 20\n",
    "img1, label1 = full_train_dataset[idx1]\n",
    "img2, label2 = full_train_dataset[idx2]\n",
    "\n",
    "fig, (ax1, ax2) = plt.subplots(1, 2, figsize=(10, 5))\n",
    "ax1.imshow(img1.squeeze(), cmap=\"gray\")\n",
    "ax1.set_title(f\"Label A: {label1}\")\n",
    "ax1.axis(\"off\")\n",
    "\n",
    "ax2.imshow(img2.squeeze(), cmap=\"gray\")\n",
    "ax2.set_title(f\"Label B: {label2}\")\n",
    "ax2.axis(\"off\")\n",
    "\n",
    "plt.tight_layout()\n",
    "plt.show()\n",
    "\n",
    "img1 = img1.unsqueeze(0).to(device)\n",
    "img2 = img2.unsqueeze(0).to(device)\n",
    "\n",
    "model.eval()\n",
    "with torch.no_grad():\n",
    "    similarity_score = model(img1, img2).item()\n",
    "\n",
    "print(f\"Prediction (similarity score): {similarity_score:.10f}\")\n",
    "print(f\"Actual: {int(label1 == label2)}\")"
   ]
  }
 ],
 "metadata": {
  "kernelspec": {
   "display_name": "Python (AI Lab 3)",
   "language": "python",
   "name": "ailab3"
  },
  "language_info": {
   "codemirror_mode": {
    "name": "ipython",
    "version": 3
   },
   "file_extension": ".py",
   "mimetype": "text/x-python",
   "name": "python",
   "nbconvert_exporter": "python",
   "pygments_lexer": "ipython3",
   "version": "3.12.7"
  }
 },
 "nbformat": 4,
 "nbformat_minor": 5
}
